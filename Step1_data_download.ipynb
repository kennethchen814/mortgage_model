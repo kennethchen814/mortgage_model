{
 "cells": [
  {
   "cell_type": "code",
   "execution_count": 2,
   "metadata": {},
   "outputs": [],
   "source": [
    "import requests\n",
    "import re\n",
    "import os\n",
    "from bs4 import BeautifulSoup\n",
    "from urllib.request import urlopen\n",
    "from zipfile import ZipFile\n",
    "from io import BytesIO\n",
    "import time\n",
    "import datetime\n",
    "import sys\n",
    "from tqdm import tqdm\n",
    "import pandas as pd\n",
    "import numpy as np\n",
    "import glob\n",
    "import csv"
   ]
  },
  {
   "cell_type": "code",
   "execution_count": 3,
   "metadata": {},
   "outputs": [],
   "source": [
    "def assure_path_exists(path):\n",
    "    if not os.path.exists(path):\n",
    "            os.makedirs(path)"
   ]
  },
  {
   "cell_type": "code",
   "execution_count": 4,
   "metadata": {},
   "outputs": [],
   "source": [
    "def extracrtZip(s,monthlistdata,path):\n",
    "    abc = tqdm(monthlistdata)\n",
    "    for month in abc:\n",
    "        abc.set_description(\"Downloading %s\" % month)\n",
    "        r = s.get(month)\n",
    "        z = ZipFile(BytesIO(r.content)) \n",
    "        z.extractall(path)  "
   ]
  },
  {
   "cell_type": "code",
   "execution_count": 5,
   "metadata": {
    "scrolled": true
   },
   "outputs": [],
   "source": [
    "def get_files(foldername, start_yr,end_yr, web_post):\n",
    "    with requests.Session() as s:\n",
    "        preUrl = s.post(web_post['url'], data={'username': web_post['username'], 'password': web_post['password']})  # post the user name and password\n",
    "        payload2={'accept': 'Yes','acceptSubmit':'Continue','action':'acceptTandC'}  # post the accept and continue\n",
    "        finalUrl=s.post(web_post['posturl'],payload2)\n",
    "        linkhtml =finalUrl.text \n",
    "        allzipfiles=BeautifulSoup(linkhtml, \"html.parser\")\n",
    "        ziplist=allzipfiles.find_all('td')\n",
    "        sampledata=[]\n",
    "        historicaldata=[]\n",
    "        count=0\n",
    "        slist=[]\n",
    "        for i in range(int(start_yr),int(end_yr)+1):\n",
    "            #print(i)\n",
    "            slist.append(i)\n",
    "        for li in ziplist:\n",
    "            zipatags=li.findAll('a')\n",
    "            for zipa in zipatags:\n",
    "                for yr in slist:\n",
    "                    if str(yr) in zipa.text:\n",
    "                        if re.match('sample',zipa.text):    #sample vs. historicl files\n",
    "                            link = zipa.get('href')\n",
    "                            Samplepath=str(os.getcwd())+\"/\"+foldername\n",
    "                            assure_path_exists(Samplepath)\n",
    "                            finallink ='https://freddiemac.embs.com/FLoan/Data/' + link\n",
    "                            sampledata.append(finallink) \n",
    "        extracrtZip(s,sampledata,Samplepath)"
   ]
  },
  {
   "cell_type": "code",
   "execution_count": 6,
   "metadata": {},
   "outputs": [],
   "source": [
    "def prep_orig_table(foldername):\n",
    "\n",
    "    filename= \"Origination_Input_All.csv\"\n",
    "    \n",
    "    headers = ['fico','first_pmnt_dt','first_hb_flag','mat_dt','msa_cd',\"pmi_pct\",'unit_cnt','occ_type','cltv','dti','orig_upb','ltv','int_rt','channel','ppm_flag','prod_type','prop_state', 'prop_type','zip_code','loan_id','loan_purpose', 'orig_loan_term','bor_cnt','seller_name','servicer_name', 'sc_flag']\n",
    "    types = {'fico': 'float',\n",
    "             'first_pmnt_dt': 'int64',\n",
    "             'first_hb_flag': 'char',\n",
    "             'mat_dt': 'int64',\n",
    "             'msa_cd': 'char',\n",
    "             'pmi_pct': 'float',\n",
    "             'unit_cnt': 'float',\n",
    "             'occ_type': 'char',\n",
    "             'cltv': 'float',\n",
    "             'dti': 'float',\n",
    "             'orig_upb': 'float',\n",
    "             'ltv': 'float',\n",
    "             'int_rt': 'float',\n",
    "             'channel': 'char',\n",
    "             'ppm_flag': 'char',\n",
    "             'prod_type': 'char',\n",
    "             'prop_state': 'char', \n",
    "             'prop_type': 'char',\n",
    "             'zip_code': 'int64',\n",
    "             'loan_id': 'char',\n",
    "             'loan_purpose': 'char', \n",
    "             'orig_loan_term': 'float',\n",
    "             'bor_cnt': 'int64',\n",
    "             'seller_name': 'char',\n",
    "             'servicer_name': 'char',\n",
    "             'sc_flag': 'str'}\n",
    "    \n",
    "    fm_files = str(os.getcwd())+\"/\"+foldername+\"/sample_orig_*.txt\"\n",
    "\n",
    "    abc = tqdm(glob.glob(fm_files))\n",
    "    \n",
    "    counter = 0\n",
    "    with open(filename, 'w',encoding='utf-8',newline=\"\") as file:\n",
    "        for f in abc: \n",
    "            abc.set_description(\"Working on  %s\" % f)\n",
    "            sample_df = pd.read_csv(f ,sep=\"|\", names=headers, skipinitialspace=True) \n",
    "            sample_df['vintage'] = np.where(sample_df.loan_id.str[2:4] == '99', '19'+ sample_df.loan_id.str[2:6], '20'+ sample_df.loan_id.str[2:6])\n",
    "            if counter == 0:\n",
    "                sample_df.to_csv(file, mode='a', header=True, index=False)\n",
    "            else:\n",
    "                sample_df.to_csv(file, mode='a', header=False, index=False)\n",
    "            counter += 1"
   ]
  },
  {
   "cell_type": "code",
   "execution_count": 7,
   "metadata": {},
   "outputs": [],
   "source": [
    "def prep_svcg_table(foldername): \n",
    "    \n",
    "    filename= \"Servicing_Input_All.csv\"\n",
    "    \n",
    "    headers= ['loan_id','rprt_dt','cur_upb','dlq_stat','loan_age','rem_months', 'repo_flag','mod_flag', 'zero_bal_cd', 'zero_bal_dt','cur_int_rt','cur_def_upb','lp_due_dt','pmi_rec', 'net_sale_proc','non_pmi_rec','expenses', 'legal_cost', 'maint_cost','taxes_ins_cost','misc_cost','actual_loss', 'mod_cost', 'step_mod_flag', 'def_pmt_mod_flag', 'eltv']\n",
    "    types=   {'loan_id': 'str',\n",
    "              'rprt_dt': 'int64',  \n",
    "              'cur_upb':'float',  \n",
    "              'dlq_stat': 'str',     \n",
    "              'loan_age':'float',   \n",
    "              'rem_months': 'float',      \n",
    "              'repo_flag':'str',      \n",
    "              'mod_flag':'str',      \n",
    "              'zero_bal_cd':'str',         \n",
    "              'zero_bal_dt':'float',      \n",
    "              'cur_int_rt':'float',     \n",
    "              'cur_def_upb':'float',      \n",
    "              'lp_due_dt':'float',    \n",
    "              'net_sale_proc':'str',   \n",
    "              'pmi_rec':'float',        \n",
    "              'non_pmi_rec':'float',      \n",
    "              'expenses':'float',    \n",
    "              'legal_cost':'float',      \n",
    "              'maint_cost':'float',     \n",
    "              'taxes_ins_cost':'float',         \n",
    "              'misc_cost':'float',    \n",
    "              'actual_loss':'float',       \n",
    "              'mod_cost':'float',    \n",
    "              'step_mod_flag':'str',           \n",
    "              'def_pmt_mod_flag':'str',\n",
    "              'eltv': 'float'}  \n",
    "    \n",
    "    fm_files = str(os.getcwd())+\"/\"+foldername+\"/sample_svcg_*.txt\"\n",
    "   \n",
    "    abc = tqdm(glob.glob(fm_files))\n",
    "    \n",
    "    counter = 0\n",
    "    with open(filename, 'w',encoding='utf-8',newline=\"\") as file:\n",
    "        for f in abc: \n",
    "            abc.set_description(\"Working on  %s\" % f)\n",
    "            perf_df = pd.read_csv(f ,sep=\"|\", names=headers, dtype = types, skipinitialspace=True) \n",
    "            if counter == 0:\n",
    "                perf_df.to_csv(file, mode='a', header=True,index=False)\n",
    "            else: \n",
    "                perf_df.to_csv(file, mode='a', header=False,index=False)\n",
    "            counter += 1"
   ]
  },
  {
   "cell_type": "code",
   "execution_count": 12,
   "metadata": {},
   "outputs": [],
   "source": [
    "def main():\n",
    "    web_post ={'url':'https://freddiemac.embs.com/FLoan/secure/auth.php',\n",
    "               'posturl':'https://freddiemac.embs.com/FLoan/Data/download.php',\n",
    "               'username':'kenneth.chen1@ey.com',\n",
    "               'password':'z@2WTd\\|'}\n",
    "    \n",
    "    start_yr = 2003\n",
    "    end_yr = 2017\n",
    "    foldername= 'FreddieMac_LoanLevel_Files'\n",
    "    \n",
    "#     get_files(foldername, start_yr, end_yr, web_post)\n",
    "    prep_orig_table(foldername)\n",
    "    prep_svcg_table(foldername)"
   ]
  },
  {
   "cell_type": "code",
   "execution_count": null,
   "metadata": {},
   "outputs": [
    {
     "name": "stderr",
     "output_type": "stream",
     "text": [
      "Working on  /home/ec2-user/SageMaker/qbb-work/FreddieMac_LoanLevel_Files/sample_orig_2008.txt:  80%|████████  | 12/15 [00:13<00:03,  1.10s/it]/home/ec2-user/anaconda3/envs/python3/lib/python3.6/site-packages/IPython/core/interactiveshell.py:2963: DtypeWarning: Columns (25) have mixed types. Specify dtype option on import or set low_memory=False.\n",
      "  exec(code_obj, self.user_global_ns, self.user_ns)\n",
      "Working on  /home/ec2-user/SageMaker/qbb-work/FreddieMac_LoanLevel_Files/sample_orig_2012.txt: 100%|██████████| 15/15 [00:16<00:00,  1.10s/it]\n",
      "Working on  /home/ec2-user/SageMaker/qbb-work/FreddieMac_LoanLevel_Files/sample_svcg_2010.txt:  73%|███████▎  | 11/15 [07:02<02:36, 39.09s/it]"
     ]
    }
   ],
   "source": [
    "if __name__ == '__main__':\n",
    "    main()"
   ]
  }
 ],
 "metadata": {
  "kernelspec": {
   "display_name": "Python 3",
   "language": "python",
   "name": "python3"
  },
  "language_info": {
   "codemirror_mode": {
    "name": "ipython",
    "version": 3
   },
   "file_extension": ".py",
   "mimetype": "text/x-python",
   "name": "python",
   "nbconvert_exporter": "python",
   "pygments_lexer": "ipython3",
   "version": "3.7.3"
  }
 },
 "nbformat": 4,
 "nbformat_minor": 2
}
